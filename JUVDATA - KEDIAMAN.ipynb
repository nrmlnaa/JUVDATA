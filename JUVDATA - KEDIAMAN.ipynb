{
 "cells": [
  {
   "cell_type": "code",
   "execution_count": 1,
   "id": "4a81671e",
   "metadata": {},
   "outputs": [],
   "source": [
    "# import required libraries\n",
    "# for data analysis and wrangling\n",
    "import pandas as pd\n",
    "import numpy as np\n",
    "import random as rnd"
   ]
  },
  {
   "cell_type": "code",
   "execution_count": 2,
   "id": "7d66e03e",
   "metadata": {},
   "outputs": [
    {
     "name": "stdout",
     "output_type": "stream",
     "text": [
      "<class 'pandas.core.frame.DataFrame'>\n",
      "RangeIndex: 41 entries, 0 to 40\n",
      "Data columns (total 3 columns):\n",
      " #   Column            Non-Null Count  Dtype \n",
      "---  ------            --------------  ----- \n",
      " 0   Kawasan Kediaman  41 non-null     object\n",
      " 1   Tahun             41 non-null     int64 \n",
      " 2   Jumlah            41 non-null     int64 \n",
      "dtypes: int64(2), object(1)\n",
      "memory usage: 1.1+ KB\n"
     ]
    }
   ],
   "source": [
    "# locate the dataframe file and display the information\n",
    "juv_kediaman = pd.read_excel('Final kediaman.xlsx')\n",
    "juv_kediaman.info()"
   ]
  },
  {
   "cell_type": "code",
   "execution_count": 3,
   "id": "ab67d898",
   "metadata": {},
   "outputs": [
    {
     "name": "stdout",
     "output_type": "stream",
     "text": [
      "['Kawasan Kediaman' 'Tahun' 'Jumlah']\n"
     ]
    }
   ],
   "source": [
    "# display all column names\n",
    "print(juv_kediaman.columns.values)"
   ]
  },
  {
   "cell_type": "code",
   "execution_count": 4,
   "id": "892c4a13",
   "metadata": {},
   "outputs": [
    {
     "data": {
      "text/html": [
       "<div>\n",
       "<style scoped>\n",
       "    .dataframe tbody tr th:only-of-type {\n",
       "        vertical-align: middle;\n",
       "    }\n",
       "\n",
       "    .dataframe tbody tr th {\n",
       "        vertical-align: top;\n",
       "    }\n",
       "\n",
       "    .dataframe thead th {\n",
       "        text-align: right;\n",
       "    }\n",
       "</style>\n",
       "<table border=\"1\" class=\"dataframe\">\n",
       "  <thead>\n",
       "    <tr style=\"text-align: right;\">\n",
       "      <th></th>\n",
       "      <th>Kawasan Kediaman</th>\n",
       "      <th>Tahun</th>\n",
       "      <th>Jumlah</th>\n",
       "    </tr>\n",
       "  </thead>\n",
       "  <tbody>\n",
       "    <tr>\n",
       "      <th>0</th>\n",
       "      <td>Banglo</td>\n",
       "      <td>2016</td>\n",
       "      <td>30</td>\n",
       "    </tr>\n",
       "    <tr>\n",
       "      <th>1</th>\n",
       "      <td>Banglo</td>\n",
       "      <td>2017</td>\n",
       "      <td>34</td>\n",
       "    </tr>\n",
       "    <tr>\n",
       "      <th>2</th>\n",
       "      <td>Banglo</td>\n",
       "      <td>2018</td>\n",
       "      <td>51</td>\n",
       "    </tr>\n",
       "    <tr>\n",
       "      <th>3</th>\n",
       "      <td>Di asrama sekolah/kolej</td>\n",
       "      <td>2016</td>\n",
       "      <td>26</td>\n",
       "    </tr>\n",
       "    <tr>\n",
       "      <th>4</th>\n",
       "      <td>Di asrama sekolah/kolej</td>\n",
       "      <td>2017</td>\n",
       "      <td>11</td>\n",
       "    </tr>\n",
       "  </tbody>\n",
       "</table>\n",
       "</div>"
      ],
      "text/plain": [
       "          Kawasan Kediaman  Tahun  Jumlah\n",
       "0                   Banglo   2016      30\n",
       "1                   Banglo   2017      34\n",
       "2                   Banglo   2018      51\n",
       "3  Di asrama sekolah/kolej   2016      26\n",
       "4  Di asrama sekolah/kolej   2017      11"
      ]
     },
     "execution_count": 4,
     "metadata": {},
     "output_type": "execute_result"
    }
   ],
   "source": [
    "juv_kediaman.head()"
   ]
  },
  {
   "cell_type": "code",
   "execution_count": 5,
   "id": "1d89ce10",
   "metadata": {},
   "outputs": [
    {
     "data": {
      "text/html": [
       "<div>\n",
       "<style scoped>\n",
       "    .dataframe tbody tr th:only-of-type {\n",
       "        vertical-align: middle;\n",
       "    }\n",
       "\n",
       "    .dataframe tbody tr th {\n",
       "        vertical-align: top;\n",
       "    }\n",
       "\n",
       "    .dataframe thead th {\n",
       "        text-align: right;\n",
       "    }\n",
       "</style>\n",
       "<table border=\"1\" class=\"dataframe\">\n",
       "  <thead>\n",
       "    <tr style=\"text-align: right;\">\n",
       "      <th></th>\n",
       "      <th>Kawasan Kediaman</th>\n",
       "      <th>Tahun</th>\n",
       "      <th>Jumlah</th>\n",
       "    </tr>\n",
       "  </thead>\n",
       "  <tbody>\n",
       "    <tr>\n",
       "      <th>36</th>\n",
       "      <td>Rumah setinggan kawasan bandar</td>\n",
       "      <td>2021</td>\n",
       "      <td>35</td>\n",
       "    </tr>\n",
       "    <tr>\n",
       "      <th>37</th>\n",
       "      <td>Setinggan luar bandar</td>\n",
       "      <td>2021</td>\n",
       "      <td>14</td>\n",
       "    </tr>\n",
       "    <tr>\n",
       "      <th>38</th>\n",
       "      <td>Di asrama sekolah atau kolej</td>\n",
       "      <td>2021</td>\n",
       "      <td>1</td>\n",
       "    </tr>\n",
       "    <tr>\n",
       "      <th>39</th>\n",
       "      <td>Lain-lain Nyatakan</td>\n",
       "      <td>2021</td>\n",
       "      <td>86</td>\n",
       "    </tr>\n",
       "    <tr>\n",
       "      <th>40</th>\n",
       "      <td>Tiada maklumat</td>\n",
       "      <td>2021</td>\n",
       "      <td>175</td>\n",
       "    </tr>\n",
       "  </tbody>\n",
       "</table>\n",
       "</div>"
      ],
      "text/plain": [
       "                  Kawasan Kediaman  Tahun  Jumlah\n",
       "36  Rumah setinggan kawasan bandar   2021      35\n",
       "37           Setinggan luar bandar   2021      14\n",
       "38    Di asrama sekolah atau kolej   2021       1\n",
       "39              Lain-lain Nyatakan   2021      86\n",
       "40                  Tiada maklumat   2021     175"
      ]
     },
     "execution_count": 5,
     "metadata": {},
     "output_type": "execute_result"
    }
   ],
   "source": [
    "juv_kediaman.tail()"
   ]
  },
  {
   "cell_type": "code",
   "execution_count": 6,
   "id": "d011fb29",
   "metadata": {},
   "outputs": [],
   "source": [
    "juv_kediaman.dropna(inplace = True)"
   ]
  },
  {
   "cell_type": "code",
   "execution_count": 7,
   "id": "253d5900",
   "metadata": {},
   "outputs": [],
   "source": [
    "juv_kediaman.drop_duplicates(inplace=True)"
   ]
  },
  {
   "cell_type": "code",
   "execution_count": 8,
   "id": "eeff236c",
   "metadata": {},
   "outputs": [
    {
     "data": {
      "text/plain": [
       "False"
      ]
     },
     "execution_count": 8,
     "metadata": {},
     "output_type": "execute_result"
    }
   ],
   "source": [
    "juv_kediaman.isnull().values.any()"
   ]
  },
  {
   "cell_type": "code",
   "execution_count": 9,
   "id": "75ce01ee",
   "metadata": {},
   "outputs": [
    {
     "data": {
      "text/plain": [
       "Kawasan Kediaman    False\n",
       "Tahun               False\n",
       "Jumlah              False\n",
       "dtype: bool"
      ]
     },
     "execution_count": 9,
     "metadata": {},
     "output_type": "execute_result"
    }
   ],
   "source": [
    "juv_kediaman.isnull().any()"
   ]
  },
  {
   "cell_type": "code",
   "execution_count": 10,
   "id": "899765a7",
   "metadata": {},
   "outputs": [
    {
     "data": {
      "text/html": [
       "<div>\n",
       "<style scoped>\n",
       "    .dataframe tbody tr th:only-of-type {\n",
       "        vertical-align: middle;\n",
       "    }\n",
       "\n",
       "    .dataframe tbody tr th {\n",
       "        vertical-align: top;\n",
       "    }\n",
       "\n",
       "    .dataframe thead th {\n",
       "        text-align: right;\n",
       "    }\n",
       "</style>\n",
       "<table border=\"1\" class=\"dataframe\">\n",
       "  <thead>\n",
       "    <tr style=\"text-align: right;\">\n",
       "      <th></th>\n",
       "      <th>Kawasan Kediaman</th>\n",
       "    </tr>\n",
       "  </thead>\n",
       "  <tbody>\n",
       "    <tr>\n",
       "      <th>count</th>\n",
       "      <td>41</td>\n",
       "    </tr>\n",
       "    <tr>\n",
       "      <th>unique</th>\n",
       "      <td>17</td>\n",
       "    </tr>\n",
       "    <tr>\n",
       "      <th>top</th>\n",
       "      <td>Banglo</td>\n",
       "    </tr>\n",
       "    <tr>\n",
       "      <th>freq</th>\n",
       "      <td>4</td>\n",
       "    </tr>\n",
       "  </tbody>\n",
       "</table>\n",
       "</div>"
      ],
      "text/plain": [
       "       Kawasan Kediaman\n",
       "count                41\n",
       "unique               17\n",
       "top              Banglo\n",
       "freq                  4"
      ]
     },
     "execution_count": 10,
     "metadata": {},
     "output_type": "execute_result"
    }
   ],
   "source": [
    "# display basic statistical information\n",
    "juv_kediaman.describe(include=['O'])"
   ]
  },
  {
   "cell_type": "code",
   "execution_count": 11,
   "id": "4da23a60",
   "metadata": {},
   "outputs": [
    {
     "data": {
      "text/html": [
       "<div>\n",
       "<style scoped>\n",
       "    .dataframe tbody tr th:only-of-type {\n",
       "        vertical-align: middle;\n",
       "    }\n",
       "\n",
       "    .dataframe tbody tr th {\n",
       "        vertical-align: top;\n",
       "    }\n",
       "\n",
       "    .dataframe thead th {\n",
       "        text-align: right;\n",
       "    }\n",
       "</style>\n",
       "<table border=\"1\" class=\"dataframe\">\n",
       "  <thead>\n",
       "    <tr style=\"text-align: right;\">\n",
       "      <th></th>\n",
       "      <th>Tahun</th>\n",
       "      <th>Jumlah</th>\n",
       "    </tr>\n",
       "    <tr>\n",
       "      <th>Kawasan Kediaman</th>\n",
       "      <th></th>\n",
       "      <th></th>\n",
       "    </tr>\n",
       "  </thead>\n",
       "  <tbody>\n",
       "    <tr>\n",
       "      <th>Banglo</th>\n",
       "      <td>4</td>\n",
       "      <td>4</td>\n",
       "    </tr>\n",
       "    <tr>\n",
       "      <th>Di asrama sekolah atau kolej</th>\n",
       "      <td>1</td>\n",
       "      <td>1</td>\n",
       "    </tr>\n",
       "    <tr>\n",
       "      <th>Di asrama sekolah/kolej</th>\n",
       "      <td>3</td>\n",
       "      <td>3</td>\n",
       "    </tr>\n",
       "    <tr>\n",
       "      <th>Kondo mewah</th>\n",
       "      <td>4</td>\n",
       "      <td>4</td>\n",
       "    </tr>\n",
       "    <tr>\n",
       "      <th>Lain-lain</th>\n",
       "      <td>3</td>\n",
       "      <td>3</td>\n",
       "    </tr>\n",
       "    <tr>\n",
       "      <th>Lain-lain Nyatakan</th>\n",
       "      <td>1</td>\n",
       "      <td>1</td>\n",
       "    </tr>\n",
       "    <tr>\n",
       "      <th>Rumah berkembar</th>\n",
       "      <td>4</td>\n",
       "      <td>4</td>\n",
       "    </tr>\n",
       "    <tr>\n",
       "      <th>Rumah kampung atau rumah panjang</th>\n",
       "      <td>1</td>\n",
       "      <td>1</td>\n",
       "    </tr>\n",
       "    <tr>\n",
       "      <th>Rumah kampung/rumah panjang</th>\n",
       "      <td>3</td>\n",
       "      <td>3</td>\n",
       "    </tr>\n",
       "    <tr>\n",
       "      <th>Rumah pangsa atau kondo rakyat</th>\n",
       "      <td>1</td>\n",
       "      <td>1</td>\n",
       "    </tr>\n",
       "    <tr>\n",
       "      <th>Rumah pangsa/kondo rakyat</th>\n",
       "      <td>3</td>\n",
       "      <td>3</td>\n",
       "    </tr>\n",
       "    <tr>\n",
       "      <th>Rumah setinggan (bandar)</th>\n",
       "      <td>3</td>\n",
       "      <td>3</td>\n",
       "    </tr>\n",
       "    <tr>\n",
       "      <th>Rumah setinggan kawasan bandar</th>\n",
       "      <td>1</td>\n",
       "      <td>1</td>\n",
       "    </tr>\n",
       "    <tr>\n",
       "      <th>Rumah teres atau berangkai</th>\n",
       "      <td>1</td>\n",
       "      <td>1</td>\n",
       "    </tr>\n",
       "    <tr>\n",
       "      <th>Rumah teres/berangkai</th>\n",
       "      <td>3</td>\n",
       "      <td>3</td>\n",
       "    </tr>\n",
       "    <tr>\n",
       "      <th>Setinggan luar bandar</th>\n",
       "      <td>4</td>\n",
       "      <td>4</td>\n",
       "    </tr>\n",
       "    <tr>\n",
       "      <th>Tiada maklumat</th>\n",
       "      <td>1</td>\n",
       "      <td>1</td>\n",
       "    </tr>\n",
       "  </tbody>\n",
       "</table>\n",
       "</div>"
      ],
      "text/plain": [
       "                                  Tahun  Jumlah\n",
       "Kawasan Kediaman                               \n",
       "Banglo                                4       4\n",
       "Di asrama sekolah atau kolej          1       1\n",
       "Di asrama sekolah/kolej               3       3\n",
       "Kondo mewah                           4       4\n",
       "Lain-lain                             3       3\n",
       "Lain-lain Nyatakan                    1       1\n",
       "Rumah berkembar                       4       4\n",
       "Rumah kampung atau rumah panjang      1       1\n",
       "Rumah kampung/rumah panjang           3       3\n",
       "Rumah pangsa atau kondo rakyat        1       1\n",
       "Rumah pangsa/kondo rakyat             3       3\n",
       "Rumah setinggan (bandar)              3       3\n",
       "Rumah setinggan kawasan bandar        1       1\n",
       "Rumah teres atau berangkai            1       1\n",
       "Rumah teres/berangkai                 3       3\n",
       "Setinggan luar bandar                 4       4\n",
       "Tiada maklumat                        1       1"
      ]
     },
     "execution_count": 11,
     "metadata": {},
     "output_type": "execute_result"
    }
   ],
   "source": [
    "# display information based of state (negeri)\n",
    "juv_kediaman.groupby(by=[\"Kawasan Kediaman\"], dropna=False).count()"
   ]
  },
  {
   "cell_type": "code",
   "execution_count": 12,
   "id": "a42459c0",
   "metadata": {},
   "outputs": [
    {
     "data": {
      "text/plain": [
       "array(['Banglo', 'Di asrama sekolah/kolej', 'Kondo mewah', 'Lain-lain',\n",
       "       'Rumah berkembar', 'Rumah kampung/rumah panjang',\n",
       "       'Rumah pangsa/kondo rakyat', 'Rumah setinggan (bandar)',\n",
       "       'Rumah teres/berangkai', 'Setinggan luar bandar',\n",
       "       'Rumah teres atau berangkai', 'Rumah pangsa atau kondo rakyat',\n",
       "       'Rumah kampung atau rumah panjang',\n",
       "       'Rumah setinggan kawasan bandar', 'Di asrama sekolah atau kolej',\n",
       "       'Lain-lain Nyatakan', 'Tiada maklumat'], dtype=object)"
      ]
     },
     "execution_count": 12,
     "metadata": {},
     "output_type": "execute_result"
    }
   ],
   "source": [
    "juv_kediaman['Kawasan Kediaman'].unique()"
   ]
  },
  {
   "cell_type": "code",
   "execution_count": 13,
   "id": "e01aa5a5",
   "metadata": {},
   "outputs": [],
   "source": [
    "#juv_kediaman['Kawasan Kediaman'].replace(to_replace=[\"\"], value=\"\", inplace=True)\n",
    "juv_kediaman['Kawasan Kediaman'].replace(to_replace=[\"Di asrama sekolah/kolej\",\"Di asrama sekolah atau kolej\"],\n",
    "                                         value=\"Di asrama sekolah/kolej\", inplace=True)\n",
    "juv_kediaman['Kawasan Kediaman'].replace(to_replace=[\"Lain-lain Nyatakan\"], value=\"Lain-lain\", inplace=True)\n",
    "juv_kediaman['Kawasan Kediaman'].replace(to_replace=[\"Rumah kampung atau rumah panjang\"], \n",
    "                                         value=\"Rumah kampung/rumah panjang\", inplace=True)\n",
    "juv_kediaman['Kawasan Kediaman'].replace(to_replace=[\"Rumah pangsa atau kondo rakyat\"], \n",
    "                                         value=\"Rumah pangsa/kondo rakyat\", inplace=True)\n",
    "juv_kediaman['Kawasan Kediaman'].replace(to_replace=[\"Rumah setinggan kawasan bandar\"], \n",
    "                                         value=\"Rumah setinggan (bandar)\", inplace=True)\n",
    "juv_kediaman['Kawasan Kediaman'].replace(to_replace=[\"Rumah teres atau berangkai\",\"Rumah teres/berangkai\"], \n",
    "                                         value=\"Rumah teres\", inplace=True)"
   ]
  },
  {
   "cell_type": "code",
   "execution_count": 14,
   "id": "c95df9dd",
   "metadata": {},
   "outputs": [
    {
     "data": {
      "text/html": [
       "<div>\n",
       "<style scoped>\n",
       "    .dataframe tbody tr th:only-of-type {\n",
       "        vertical-align: middle;\n",
       "    }\n",
       "\n",
       "    .dataframe tbody tr th {\n",
       "        vertical-align: top;\n",
       "    }\n",
       "\n",
       "    .dataframe thead th {\n",
       "        text-align: right;\n",
       "    }\n",
       "</style>\n",
       "<table border=\"1\" class=\"dataframe\">\n",
       "  <thead>\n",
       "    <tr style=\"text-align: right;\">\n",
       "      <th></th>\n",
       "      <th>Tahun</th>\n",
       "      <th>Jumlah</th>\n",
       "    </tr>\n",
       "    <tr>\n",
       "      <th>Kawasan Kediaman</th>\n",
       "      <th></th>\n",
       "      <th></th>\n",
       "    </tr>\n",
       "  </thead>\n",
       "  <tbody>\n",
       "    <tr>\n",
       "      <th>Banglo</th>\n",
       "      <td>4</td>\n",
       "      <td>4</td>\n",
       "    </tr>\n",
       "    <tr>\n",
       "      <th>Di asrama sekolah/kolej</th>\n",
       "      <td>4</td>\n",
       "      <td>4</td>\n",
       "    </tr>\n",
       "    <tr>\n",
       "      <th>Kondo mewah</th>\n",
       "      <td>4</td>\n",
       "      <td>4</td>\n",
       "    </tr>\n",
       "    <tr>\n",
       "      <th>Lain-lain</th>\n",
       "      <td>4</td>\n",
       "      <td>4</td>\n",
       "    </tr>\n",
       "    <tr>\n",
       "      <th>Rumah berkembar</th>\n",
       "      <td>4</td>\n",
       "      <td>4</td>\n",
       "    </tr>\n",
       "    <tr>\n",
       "      <th>Rumah kampung/rumah panjang</th>\n",
       "      <td>4</td>\n",
       "      <td>4</td>\n",
       "    </tr>\n",
       "    <tr>\n",
       "      <th>Rumah pangsa/kondo rakyat</th>\n",
       "      <td>4</td>\n",
       "      <td>4</td>\n",
       "    </tr>\n",
       "    <tr>\n",
       "      <th>Rumah setinggan (bandar)</th>\n",
       "      <td>4</td>\n",
       "      <td>4</td>\n",
       "    </tr>\n",
       "    <tr>\n",
       "      <th>Rumah teres</th>\n",
       "      <td>4</td>\n",
       "      <td>4</td>\n",
       "    </tr>\n",
       "    <tr>\n",
       "      <th>Setinggan luar bandar</th>\n",
       "      <td>4</td>\n",
       "      <td>4</td>\n",
       "    </tr>\n",
       "    <tr>\n",
       "      <th>Tiada maklumat</th>\n",
       "      <td>1</td>\n",
       "      <td>1</td>\n",
       "    </tr>\n",
       "  </tbody>\n",
       "</table>\n",
       "</div>"
      ],
      "text/plain": [
       "                             Tahun  Jumlah\n",
       "Kawasan Kediaman                          \n",
       "Banglo                           4       4\n",
       "Di asrama sekolah/kolej          4       4\n",
       "Kondo mewah                      4       4\n",
       "Lain-lain                        4       4\n",
       "Rumah berkembar                  4       4\n",
       "Rumah kampung/rumah panjang      4       4\n",
       "Rumah pangsa/kondo rakyat        4       4\n",
       "Rumah setinggan (bandar)         4       4\n",
       "Rumah teres                      4       4\n",
       "Setinggan luar bandar            4       4\n",
       "Tiada maklumat                   1       1"
      ]
     },
     "execution_count": 14,
     "metadata": {},
     "output_type": "execute_result"
    }
   ],
   "source": [
    "# display information based of state (negeri)\n",
    "juv_kediaman.groupby(by=[\"Kawasan Kediaman\"], dropna=False).count()"
   ]
  },
  {
   "cell_type": "code",
   "execution_count": 15,
   "id": "5d0bdc83",
   "metadata": {},
   "outputs": [
    {
     "data": {
      "text/html": [
       "<div>\n",
       "<style scoped>\n",
       "    .dataframe tbody tr th:only-of-type {\n",
       "        vertical-align: middle;\n",
       "    }\n",
       "\n",
       "    .dataframe tbody tr th {\n",
       "        vertical-align: top;\n",
       "    }\n",
       "\n",
       "    .dataframe thead th {\n",
       "        text-align: right;\n",
       "    }\n",
       "</style>\n",
       "<table border=\"1\" class=\"dataframe\">\n",
       "  <thead>\n",
       "    <tr style=\"text-align: right;\">\n",
       "      <th></th>\n",
       "      <th>Kawasan Kediaman</th>\n",
       "      <th>Jumlah</th>\n",
       "    </tr>\n",
       "    <tr>\n",
       "      <th>Tahun</th>\n",
       "      <th></th>\n",
       "      <th></th>\n",
       "    </tr>\n",
       "  </thead>\n",
       "  <tbody>\n",
       "    <tr>\n",
       "      <th>2016</th>\n",
       "      <td>10</td>\n",
       "      <td>10</td>\n",
       "    </tr>\n",
       "    <tr>\n",
       "      <th>2017</th>\n",
       "      <td>10</td>\n",
       "      <td>10</td>\n",
       "    </tr>\n",
       "    <tr>\n",
       "      <th>2018</th>\n",
       "      <td>10</td>\n",
       "      <td>10</td>\n",
       "    </tr>\n",
       "    <tr>\n",
       "      <th>2021</th>\n",
       "      <td>11</td>\n",
       "      <td>11</td>\n",
       "    </tr>\n",
       "  </tbody>\n",
       "</table>\n",
       "</div>"
      ],
      "text/plain": [
       "       Kawasan Kediaman  Jumlah\n",
       "Tahun                          \n",
       "2016                 10      10\n",
       "2017                 10      10\n",
       "2018                 10      10\n",
       "2021                 11      11"
      ]
     },
     "execution_count": 15,
     "metadata": {},
     "output_type": "execute_result"
    }
   ],
   "source": [
    "# display information based of state (negeri)\n",
    "juv_kediaman.groupby(by=[\"Tahun\"], dropna=False).count()"
   ]
  },
  {
   "cell_type": "code",
   "execution_count": 17,
   "id": "249104e3",
   "metadata": {},
   "outputs": [],
   "source": [
    "juv_kediaman['Tahun'] = juv_kediaman['Tahun'].astype(str)"
   ]
  },
  {
   "cell_type": "code",
   "execution_count": 18,
   "id": "d5b39320",
   "metadata": {},
   "outputs": [
    {
     "name": "stdout",
     "output_type": "stream",
     "text": [
      "<class 'pandas.core.frame.DataFrame'>\n",
      "Int64Index: 41 entries, 0 to 40\n",
      "Data columns (total 3 columns):\n",
      " #   Column            Non-Null Count  Dtype \n",
      "---  ------            --------------  ----- \n",
      " 0   Kawasan Kediaman  41 non-null     object\n",
      " 1   Tahun             41 non-null     object\n",
      " 2   Jumlah            41 non-null     int64 \n",
      "dtypes: int64(1), object(2)\n",
      "memory usage: 1.3+ KB\n"
     ]
    }
   ],
   "source": [
    "juv_kediaman.info()"
   ]
  },
  {
   "cell_type": "code",
   "execution_count": 19,
   "id": "dfbaf291",
   "metadata": {},
   "outputs": [],
   "source": [
    "juv_kediaman['Tahun'] = pd.to_datetime(juv_kediaman['Tahun'])"
   ]
  },
  {
   "cell_type": "code",
   "execution_count": 20,
   "id": "0461f127",
   "metadata": {},
   "outputs": [
    {
     "name": "stdout",
     "output_type": "stream",
     "text": [
      "<class 'pandas.core.frame.DataFrame'>\n",
      "Int64Index: 41 entries, 0 to 40\n",
      "Data columns (total 3 columns):\n",
      " #   Column            Non-Null Count  Dtype         \n",
      "---  ------            --------------  -----         \n",
      " 0   Kawasan Kediaman  41 non-null     object        \n",
      " 1   Tahun             41 non-null     datetime64[ns]\n",
      " 2   Jumlah            41 non-null     int64         \n",
      "dtypes: datetime64[ns](1), int64(1), object(1)\n",
      "memory usage: 1.3+ KB\n"
     ]
    }
   ],
   "source": [
    "juv_kediaman.info()"
   ]
  },
  {
   "cell_type": "code",
   "execution_count": 21,
   "id": "d3cb270e",
   "metadata": {},
   "outputs": [],
   "source": [
    "excel_file = pd.ExcelWriter(\"juvdata_kediaman.xlsx\")"
   ]
  },
  {
   "cell_type": "code",
   "execution_count": 22,
   "id": "830d80f3",
   "metadata": {},
   "outputs": [],
   "source": [
    "juv_kediaman.to_excel(excel_file)"
   ]
  },
  {
   "cell_type": "code",
   "execution_count": 23,
   "id": "ea1cbf7b",
   "metadata": {},
   "outputs": [],
   "source": [
    "excel_file.save()"
   ]
  },
  {
   "cell_type": "code",
   "execution_count": null,
   "id": "3184bb3c",
   "metadata": {},
   "outputs": [],
   "source": []
  }
 ],
 "metadata": {
  "kernelspec": {
   "display_name": "Python 3 (ipykernel)",
   "language": "python",
   "name": "python3"
  },
  "language_info": {
   "codemirror_mode": {
    "name": "ipython",
    "version": 3
   },
   "file_extension": ".py",
   "mimetype": "text/x-python",
   "name": "python",
   "nbconvert_exporter": "python",
   "pygments_lexer": "ipython3",
   "version": "3.9.12"
  }
 },
 "nbformat": 4,
 "nbformat_minor": 5
}
