{
 "cells": [
  {
   "cell_type": "code",
   "execution_count": 1,
   "id": "1acecfab",
   "metadata": {},
   "outputs": [],
   "source": [
    "# import required libraries\n",
    "# for data analysis and wrangling\n",
    "import pandas as pd\n",
    "import numpy as np\n",
    "import random as rnd"
   ]
  },
  {
   "cell_type": "code",
   "execution_count": 2,
   "id": "4cb6e426",
   "metadata": {},
   "outputs": [
    {
     "name": "stdout",
     "output_type": "stream",
     "text": [
      "<class 'pandas.core.frame.DataFrame'>\n",
      "RangeIndex: 128 entries, 0 to 127\n",
      "Data columns (total 4 columns):\n",
      " #   Column   Non-Null Count  Dtype \n",
      "---  ------   --------------  ----- \n",
      " 0   Negeri   128 non-null    object\n",
      " 1   Jantina  128 non-null    object\n",
      " 2   Tahun    128 non-null    int64 \n",
      " 3   Jumlah   128 non-null    int64 \n",
      "dtypes: int64(2), object(2)\n",
      "memory usage: 4.1+ KB\n"
     ]
    }
   ],
   "source": [
    "# locate the dataframe file and display the information\n",
    "juv_negeri = pd.read_excel('Final negeri.xlsx')\n",
    "juv_negeri.info()"
   ]
  },
  {
   "cell_type": "code",
   "execution_count": 3,
   "id": "1303598f",
   "metadata": {},
   "outputs": [
    {
     "name": "stdout",
     "output_type": "stream",
     "text": [
      "['Negeri ' 'Jantina' 'Tahun' 'Jumlah']\n"
     ]
    }
   ],
   "source": [
    "# display all column names\n",
    "print(juv_negeri.columns.values)"
   ]
  },
  {
   "cell_type": "code",
   "execution_count": 4,
   "id": "9330a307",
   "metadata": {},
   "outputs": [
    {
     "data": {
      "text/html": [
       "<div>\n",
       "<style scoped>\n",
       "    .dataframe tbody tr th:only-of-type {\n",
       "        vertical-align: middle;\n",
       "    }\n",
       "\n",
       "    .dataframe tbody tr th {\n",
       "        vertical-align: top;\n",
       "    }\n",
       "\n",
       "    .dataframe thead th {\n",
       "        text-align: right;\n",
       "    }\n",
       "</style>\n",
       "<table border=\"1\" class=\"dataframe\">\n",
       "  <thead>\n",
       "    <tr style=\"text-align: right;\">\n",
       "      <th></th>\n",
       "      <th>Negeri</th>\n",
       "      <th>Jantina</th>\n",
       "      <th>Tahun</th>\n",
       "      <th>Jumlah</th>\n",
       "    </tr>\n",
       "  </thead>\n",
       "  <tbody>\n",
       "    <tr>\n",
       "      <th>0</th>\n",
       "      <td>Johor</td>\n",
       "      <td>Lelaki / Male</td>\n",
       "      <td>2016</td>\n",
       "      <td>487</td>\n",
       "    </tr>\n",
       "    <tr>\n",
       "      <th>1</th>\n",
       "      <td>Johor</td>\n",
       "      <td>Perempuan / Female</td>\n",
       "      <td>2016</td>\n",
       "      <td>46</td>\n",
       "    </tr>\n",
       "    <tr>\n",
       "      <th>2</th>\n",
       "      <td>Kedah</td>\n",
       "      <td>Lelaki / Male</td>\n",
       "      <td>2016</td>\n",
       "      <td>373</td>\n",
       "    </tr>\n",
       "    <tr>\n",
       "      <th>3</th>\n",
       "      <td>Kedah</td>\n",
       "      <td>Perempuan / Female</td>\n",
       "      <td>2016</td>\n",
       "      <td>18</td>\n",
       "    </tr>\n",
       "    <tr>\n",
       "      <th>4</th>\n",
       "      <td>Kelantan</td>\n",
       "      <td>Lelaki / Male</td>\n",
       "      <td>2016</td>\n",
       "      <td>435</td>\n",
       "    </tr>\n",
       "  </tbody>\n",
       "</table>\n",
       "</div>"
      ],
      "text/plain": [
       "    Negeri              Jantina  Tahun  Jumlah\n",
       "0     Johor       Lelaki / Male   2016     487\n",
       "1     Johor  Perempuan / Female   2016      46\n",
       "2    Kedah        Lelaki / Male   2016     373\n",
       "3    Kedah   Perempuan / Female   2016      18\n",
       "4  Kelantan       Lelaki / Male   2016     435"
      ]
     },
     "execution_count": 4,
     "metadata": {},
     "output_type": "execute_result"
    }
   ],
   "source": [
    "juv_negeri.head()"
   ]
  },
  {
   "cell_type": "code",
   "execution_count": 5,
   "id": "124b5f46",
   "metadata": {},
   "outputs": [
    {
     "data": {
      "text/html": [
       "<div>\n",
       "<style scoped>\n",
       "    .dataframe tbody tr th:only-of-type {\n",
       "        vertical-align: middle;\n",
       "    }\n",
       "\n",
       "    .dataframe tbody tr th {\n",
       "        vertical-align: top;\n",
       "    }\n",
       "\n",
       "    .dataframe thead th {\n",
       "        text-align: right;\n",
       "    }\n",
       "</style>\n",
       "<table border=\"1\" class=\"dataframe\">\n",
       "  <thead>\n",
       "    <tr style=\"text-align: right;\">\n",
       "      <th></th>\n",
       "      <th>Negeri</th>\n",
       "      <th>Jantina</th>\n",
       "      <th>Tahun</th>\n",
       "      <th>Jumlah</th>\n",
       "    </tr>\n",
       "  </thead>\n",
       "  <tbody>\n",
       "    <tr>\n",
       "      <th>123</th>\n",
       "      <td>W.P. Kuala Lumpur</td>\n",
       "      <td>Perempuan/Female</td>\n",
       "      <td>2019</td>\n",
       "      <td>46</td>\n",
       "    </tr>\n",
       "    <tr>\n",
       "      <th>124</th>\n",
       "      <td>W.P. Labuan</td>\n",
       "      <td>Lelaki/Male</td>\n",
       "      <td>2019</td>\n",
       "      <td>32</td>\n",
       "    </tr>\n",
       "    <tr>\n",
       "      <th>125</th>\n",
       "      <td>W.P. Labuan</td>\n",
       "      <td>Perempuan/Female</td>\n",
       "      <td>2019</td>\n",
       "      <td>2</td>\n",
       "    </tr>\n",
       "    <tr>\n",
       "      <th>126</th>\n",
       "      <td>W.P. Putrajaya</td>\n",
       "      <td>Lelaki/Male</td>\n",
       "      <td>2019</td>\n",
       "      <td>7</td>\n",
       "    </tr>\n",
       "    <tr>\n",
       "      <th>127</th>\n",
       "      <td>W.P. Putrajaya</td>\n",
       "      <td>Perempuan/Female</td>\n",
       "      <td>2019</td>\n",
       "      <td>0</td>\n",
       "    </tr>\n",
       "  </tbody>\n",
       "</table>\n",
       "</div>"
      ],
      "text/plain": [
       "               Negeri            Jantina  Tahun  Jumlah\n",
       "123  W.P. Kuala Lumpur  Perempuan/Female   2019      46\n",
       "124        W.P. Labuan       Lelaki/Male   2019      32\n",
       "125        W.P. Labuan  Perempuan/Female   2019       2\n",
       "126     W.P. Putrajaya       Lelaki/Male   2019       7\n",
       "127     W.P. Putrajaya  Perempuan/Female   2019       0"
      ]
     },
     "execution_count": 5,
     "metadata": {},
     "output_type": "execute_result"
    }
   ],
   "source": [
    "juv_negeri.tail()"
   ]
  },
  {
   "cell_type": "code",
   "execution_count": 6,
   "id": "2caa2094",
   "metadata": {},
   "outputs": [],
   "source": [
    "juv_negeri.dropna(inplace = True)"
   ]
  },
  {
   "cell_type": "code",
   "execution_count": 7,
   "id": "0f64bafd",
   "metadata": {},
   "outputs": [],
   "source": [
    "juv_negeri.drop_duplicates(inplace=True)"
   ]
  },
  {
   "cell_type": "code",
   "execution_count": 8,
   "id": "6ae9eb9c",
   "metadata": {},
   "outputs": [
    {
     "data": {
      "text/plain": [
       "False"
      ]
     },
     "execution_count": 8,
     "metadata": {},
     "output_type": "execute_result"
    }
   ],
   "source": [
    "juv_negeri.isnull().values.any()"
   ]
  },
  {
   "cell_type": "code",
   "execution_count": 9,
   "id": "4b373286",
   "metadata": {},
   "outputs": [
    {
     "data": {
      "text/plain": [
       "Negeri     False\n",
       "Jantina    False\n",
       "Tahun      False\n",
       "Jumlah     False\n",
       "dtype: bool"
      ]
     },
     "execution_count": 9,
     "metadata": {},
     "output_type": "execute_result"
    }
   ],
   "source": [
    "juv_negeri.isnull().any()"
   ]
  },
  {
   "cell_type": "code",
   "execution_count": 10,
   "id": "987d3219",
   "metadata": {},
   "outputs": [
    {
     "data": {
      "text/html": [
       "<div>\n",
       "<style scoped>\n",
       "    .dataframe tbody tr th:only-of-type {\n",
       "        vertical-align: middle;\n",
       "    }\n",
       "\n",
       "    .dataframe tbody tr th {\n",
       "        vertical-align: top;\n",
       "    }\n",
       "\n",
       "    .dataframe thead th {\n",
       "        text-align: right;\n",
       "    }\n",
       "</style>\n",
       "<table border=\"1\" class=\"dataframe\">\n",
       "  <thead>\n",
       "    <tr style=\"text-align: right;\">\n",
       "      <th></th>\n",
       "      <th>Negeri</th>\n",
       "      <th>Jantina</th>\n",
       "    </tr>\n",
       "  </thead>\n",
       "  <tbody>\n",
       "    <tr>\n",
       "      <th>count</th>\n",
       "      <td>128</td>\n",
       "      <td>128</td>\n",
       "    </tr>\n",
       "    <tr>\n",
       "      <th>unique</th>\n",
       "      <td>30</td>\n",
       "      <td>6</td>\n",
       "    </tr>\n",
       "    <tr>\n",
       "      <th>top</th>\n",
       "      <td>Kelantan</td>\n",
       "      <td>Lelaki / Male</td>\n",
       "    </tr>\n",
       "    <tr>\n",
       "      <th>freq</th>\n",
       "      <td>8</td>\n",
       "      <td>32</td>\n",
       "    </tr>\n",
       "  </tbody>\n",
       "</table>\n",
       "</div>"
      ],
      "text/plain": [
       "         Negeri         Jantina\n",
       "count        128            128\n",
       "unique        30              6\n",
       "top     Kelantan  Lelaki / Male\n",
       "freq           8             32"
      ]
     },
     "execution_count": 10,
     "metadata": {},
     "output_type": "execute_result"
    }
   ],
   "source": [
    "# display basic statistical information\n",
    "juv_negeri.describe(include=['O'])"
   ]
  },
  {
   "cell_type": "code",
   "execution_count": 11,
   "id": "127cf13b",
   "metadata": {},
   "outputs": [],
   "source": [
    "# Rename the column name\n",
    "juv_negeri.rename(columns = {'Negeri ':'Negeri'}, inplace = True)"
   ]
  },
  {
   "cell_type": "code",
   "execution_count": 12,
   "id": "7de37fcf",
   "metadata": {},
   "outputs": [
    {
     "name": "stdout",
     "output_type": "stream",
     "text": [
      "['Negeri' 'Jantina' 'Tahun' 'Jumlah']\n"
     ]
    }
   ],
   "source": [
    "# display all column names\n",
    "print(juv_negeri.columns.values)"
   ]
  },
  {
   "cell_type": "code",
   "execution_count": 13,
   "id": "5367e10f",
   "metadata": {},
   "outputs": [
    {
     "data": {
      "text/html": [
       "<div>\n",
       "<style scoped>\n",
       "    .dataframe tbody tr th:only-of-type {\n",
       "        vertical-align: middle;\n",
       "    }\n",
       "\n",
       "    .dataframe tbody tr th {\n",
       "        vertical-align: top;\n",
       "    }\n",
       "\n",
       "    .dataframe thead th {\n",
       "        text-align: right;\n",
       "    }\n",
       "</style>\n",
       "<table border=\"1\" class=\"dataframe\">\n",
       "  <thead>\n",
       "    <tr style=\"text-align: right;\">\n",
       "      <th></th>\n",
       "      <th>Jantina</th>\n",
       "      <th>Tahun</th>\n",
       "      <th>Jumlah</th>\n",
       "    </tr>\n",
       "    <tr>\n",
       "      <th>Negeri</th>\n",
       "      <th></th>\n",
       "      <th></th>\n",
       "      <th></th>\n",
       "    </tr>\n",
       "  </thead>\n",
       "  <tbody>\n",
       "    <tr>\n",
       "      <th>Johor</th>\n",
       "      <td>6</td>\n",
       "      <td>6</td>\n",
       "      <td>6</td>\n",
       "    </tr>\n",
       "    <tr>\n",
       "      <th>Johor</th>\n",
       "      <td>2</td>\n",
       "      <td>2</td>\n",
       "      <td>2</td>\n",
       "    </tr>\n",
       "    <tr>\n",
       "      <th>Kedah</th>\n",
       "      <td>4</td>\n",
       "      <td>4</td>\n",
       "      <td>4</td>\n",
       "    </tr>\n",
       "    <tr>\n",
       "      <th>Kedah</th>\n",
       "      <td>4</td>\n",
       "      <td>4</td>\n",
       "      <td>4</td>\n",
       "    </tr>\n",
       "    <tr>\n",
       "      <th>Kelantan</th>\n",
       "      <td>8</td>\n",
       "      <td>8</td>\n",
       "      <td>8</td>\n",
       "    </tr>\n",
       "    <tr>\n",
       "      <th>Melaka</th>\n",
       "      <td>2</td>\n",
       "      <td>2</td>\n",
       "      <td>2</td>\n",
       "    </tr>\n",
       "    <tr>\n",
       "      <th>Melaka</th>\n",
       "      <td>6</td>\n",
       "      <td>6</td>\n",
       "      <td>6</td>\n",
       "    </tr>\n",
       "    <tr>\n",
       "      <th>Negeri Sembilan</th>\n",
       "      <td>8</td>\n",
       "      <td>8</td>\n",
       "      <td>8</td>\n",
       "    </tr>\n",
       "    <tr>\n",
       "      <th>Pahang</th>\n",
       "      <td>2</td>\n",
       "      <td>2</td>\n",
       "      <td>2</td>\n",
       "    </tr>\n",
       "    <tr>\n",
       "      <th>Pahang</th>\n",
       "      <td>6</td>\n",
       "      <td>6</td>\n",
       "      <td>6</td>\n",
       "    </tr>\n",
       "    <tr>\n",
       "      <th>Perak</th>\n",
       "      <td>2</td>\n",
       "      <td>2</td>\n",
       "      <td>2</td>\n",
       "    </tr>\n",
       "    <tr>\n",
       "      <th>Perak</th>\n",
       "      <td>6</td>\n",
       "      <td>6</td>\n",
       "      <td>6</td>\n",
       "    </tr>\n",
       "    <tr>\n",
       "      <th>Perlis</th>\n",
       "      <td>8</td>\n",
       "      <td>8</td>\n",
       "      <td>8</td>\n",
       "    </tr>\n",
       "    <tr>\n",
       "      <th>Pulau Pinang</th>\n",
       "      <td>6</td>\n",
       "      <td>6</td>\n",
       "      <td>6</td>\n",
       "    </tr>\n",
       "    <tr>\n",
       "      <th>Pulau Pinang</th>\n",
       "      <td>2</td>\n",
       "      <td>2</td>\n",
       "      <td>2</td>\n",
       "    </tr>\n",
       "    <tr>\n",
       "      <th>Putrajaya</th>\n",
       "      <td>4</td>\n",
       "      <td>4</td>\n",
       "      <td>4</td>\n",
       "    </tr>\n",
       "    <tr>\n",
       "      <th>Sabah</th>\n",
       "      <td>8</td>\n",
       "      <td>8</td>\n",
       "      <td>8</td>\n",
       "    </tr>\n",
       "    <tr>\n",
       "      <th>Sarawak</th>\n",
       "      <td>8</td>\n",
       "      <td>8</td>\n",
       "      <td>8</td>\n",
       "    </tr>\n",
       "    <tr>\n",
       "      <th>Selangor</th>\n",
       "      <td>2</td>\n",
       "      <td>2</td>\n",
       "      <td>2</td>\n",
       "    </tr>\n",
       "    <tr>\n",
       "      <th>Selangor</th>\n",
       "      <td>6</td>\n",
       "      <td>6</td>\n",
       "      <td>6</td>\n",
       "    </tr>\n",
       "    <tr>\n",
       "      <th>Terengganu</th>\n",
       "      <td>6</td>\n",
       "      <td>6</td>\n",
       "      <td>6</td>\n",
       "    </tr>\n",
       "    <tr>\n",
       "      <th>Terengganu</th>\n",
       "      <td>2</td>\n",
       "      <td>2</td>\n",
       "      <td>2</td>\n",
       "    </tr>\n",
       "    <tr>\n",
       "      <th>W.P. Kuala Lumpur</th>\n",
       "      <td>2</td>\n",
       "      <td>2</td>\n",
       "      <td>2</td>\n",
       "    </tr>\n",
       "    <tr>\n",
       "      <th>W.P. Kuala Lumpur</th>\n",
       "      <td>4</td>\n",
       "      <td>4</td>\n",
       "      <td>4</td>\n",
       "    </tr>\n",
       "    <tr>\n",
       "      <th>W.P. Labuan</th>\n",
       "      <td>2</td>\n",
       "      <td>2</td>\n",
       "      <td>2</td>\n",
       "    </tr>\n",
       "    <tr>\n",
       "      <th>W.P. Labuan</th>\n",
       "      <td>4</td>\n",
       "      <td>4</td>\n",
       "      <td>4</td>\n",
       "    </tr>\n",
       "    <tr>\n",
       "      <th>W.P. Putrajaya</th>\n",
       "      <td>2</td>\n",
       "      <td>2</td>\n",
       "      <td>2</td>\n",
       "    </tr>\n",
       "    <tr>\n",
       "      <th>WP Kuala Lumpur</th>\n",
       "      <td>2</td>\n",
       "      <td>2</td>\n",
       "      <td>2</td>\n",
       "    </tr>\n",
       "    <tr>\n",
       "      <th>WP Labuan</th>\n",
       "      <td>2</td>\n",
       "      <td>2</td>\n",
       "      <td>2</td>\n",
       "    </tr>\n",
       "    <tr>\n",
       "      <th>WP Putrajaya</th>\n",
       "      <td>2</td>\n",
       "      <td>2</td>\n",
       "      <td>2</td>\n",
       "    </tr>\n",
       "  </tbody>\n",
       "</table>\n",
       "</div>"
      ],
      "text/plain": [
       "                    Jantina  Tahun  Jumlah\n",
       "Negeri                                    \n",
       "Johor                     6      6       6\n",
       "Johor                     2      2       2\n",
       "Kedah                     4      4       4\n",
       "Kedah                     4      4       4\n",
       "Kelantan                  8      8       8\n",
       "Melaka                    2      2       2\n",
       "Melaka                    6      6       6\n",
       "Negeri Sembilan           8      8       8\n",
       "Pahang                    2      2       2\n",
       "Pahang                    6      6       6\n",
       "Perak                     2      2       2\n",
       "Perak                     6      6       6\n",
       "Perlis                    8      8       8\n",
       "Pulau Pinang              6      6       6\n",
       "Pulau Pinang              2      2       2\n",
       "Putrajaya                 4      4       4\n",
       "Sabah                     8      8       8\n",
       "Sarawak                   8      8       8\n",
       "Selangor                  2      2       2\n",
       "Selangor                  6      6       6\n",
       "Terengganu                6      6       6\n",
       "Terengganu                2      2       2\n",
       "W.P. Kuala Lumpur         2      2       2\n",
       "W.P. Kuala Lumpur         4      4       4\n",
       "W.P. Labuan               2      2       2\n",
       "W.P. Labuan               4      4       4\n",
       "W.P. Putrajaya            2      2       2\n",
       "WP Kuala Lumpur           2      2       2\n",
       "WP Labuan                 2      2       2\n",
       "WP Putrajaya              2      2       2"
      ]
     },
     "execution_count": 13,
     "metadata": {},
     "output_type": "execute_result"
    }
   ],
   "source": [
    "# display information based of state (negeri)\n",
    "juv_negeri.groupby(by=[\"Negeri\"], dropna=False).count()"
   ]
  },
  {
   "cell_type": "code",
   "execution_count": 14,
   "id": "64f4c6af",
   "metadata": {},
   "outputs": [
    {
     "data": {
      "text/plain": [
       "array(['Johor', 'Kedah ', 'Kelantan', 'Melaka ', 'Negeri Sembilan',\n",
       "       'Pahang ', 'Perak ', 'Perlis', 'Pulau Pinang', 'Putrajaya',\n",
       "       'Sabah', 'Sarawak', 'Selangor ', 'Terengganu',\n",
       "       'W.P. Kuala Lumpur ', 'W.P. Labuan ', 'Kedah', 'Melaka', 'Pahang',\n",
       "       'Perak', 'Selangor', 'WP Kuala Lumpur', 'WP Labuan',\n",
       "       'WP Putrajaya', 'Johor ', 'Pulau Pinang ', 'Terengganu ',\n",
       "       'W.P. Kuala Lumpur', 'W.P. Labuan', 'W.P. Putrajaya'], dtype=object)"
      ]
     },
     "execution_count": 14,
     "metadata": {},
     "output_type": "execute_result"
    }
   ],
   "source": [
    "juv_negeri['Negeri'].unique()"
   ]
  },
  {
   "cell_type": "code",
   "execution_count": 15,
   "id": "888838ea",
   "metadata": {},
   "outputs": [],
   "source": [
    "# standardize the data\n",
    "juv_negeri['Negeri'].replace(to_replace=[\"Johor \"], value=\"Johor\", inplace = True)\n",
    "juv_negeri['Negeri'].replace(to_replace=[\"Kedah \"], value=\"Kedah\", inplace = True)\n",
    "juv_negeri['Negeri'].replace(to_replace=[\"Melaka \"], value=\"Melaka\", inplace = True)\n",
    "juv_negeri['Negeri'].replace(to_replace=[\"Pahang \"], value=\"Pahang\", inplace = True)\n",
    "juv_negeri['Negeri'].replace(to_replace=[\"Perak \"], value=\"Perak\", inplace = True)\n",
    "juv_negeri['Negeri'].replace(to_replace=[\"Pulau Pinang \"], value=\"Pulau Pinang\", inplace = True)\n",
    "juv_negeri['Negeri'].replace(to_replace=[\"Selangor \"], value=\"Selangor\", inplace = True)\n",
    "juv_negeri['Negeri'].replace(to_replace=[\"Terengganu \"], value=\"Terengganu\", inplace = True)\n",
    "juv_negeri['Negeri'].replace(to_replace=[\"W.P. Kuala Lumpur \",\"WP Kuala Lumpur\"], value=\"W.P. Kuala Lumpur\",\n",
    "                             inplace = True)\n",
    "juv_negeri['Negeri'].replace(to_replace=[\"W.P. Labuan \",\"WP Labuan\"], value=\"W.P. Labuan\", inplace = True)\n",
    "juv_negeri['Negeri'].replace(to_replace=[\"Putrajaya\",\"WP Putrajaya\"], value=\"W.P. Putrajaya\", inplace = True)"
   ]
  },
  {
   "cell_type": "code",
   "execution_count": 16,
   "id": "fefc9b0b",
   "metadata": {},
   "outputs": [
    {
     "data": {
      "text/html": [
       "<div>\n",
       "<style scoped>\n",
       "    .dataframe tbody tr th:only-of-type {\n",
       "        vertical-align: middle;\n",
       "    }\n",
       "\n",
       "    .dataframe tbody tr th {\n",
       "        vertical-align: top;\n",
       "    }\n",
       "\n",
       "    .dataframe thead th {\n",
       "        text-align: right;\n",
       "    }\n",
       "</style>\n",
       "<table border=\"1\" class=\"dataframe\">\n",
       "  <thead>\n",
       "    <tr style=\"text-align: right;\">\n",
       "      <th></th>\n",
       "      <th>Jantina</th>\n",
       "      <th>Tahun</th>\n",
       "      <th>Jumlah</th>\n",
       "    </tr>\n",
       "    <tr>\n",
       "      <th>Negeri</th>\n",
       "      <th></th>\n",
       "      <th></th>\n",
       "      <th></th>\n",
       "    </tr>\n",
       "  </thead>\n",
       "  <tbody>\n",
       "    <tr>\n",
       "      <th>Johor</th>\n",
       "      <td>8</td>\n",
       "      <td>8</td>\n",
       "      <td>8</td>\n",
       "    </tr>\n",
       "    <tr>\n",
       "      <th>Kedah</th>\n",
       "      <td>8</td>\n",
       "      <td>8</td>\n",
       "      <td>8</td>\n",
       "    </tr>\n",
       "    <tr>\n",
       "      <th>Kelantan</th>\n",
       "      <td>8</td>\n",
       "      <td>8</td>\n",
       "      <td>8</td>\n",
       "    </tr>\n",
       "    <tr>\n",
       "      <th>Melaka</th>\n",
       "      <td>8</td>\n",
       "      <td>8</td>\n",
       "      <td>8</td>\n",
       "    </tr>\n",
       "    <tr>\n",
       "      <th>Negeri Sembilan</th>\n",
       "      <td>8</td>\n",
       "      <td>8</td>\n",
       "      <td>8</td>\n",
       "    </tr>\n",
       "    <tr>\n",
       "      <th>Pahang</th>\n",
       "      <td>8</td>\n",
       "      <td>8</td>\n",
       "      <td>8</td>\n",
       "    </tr>\n",
       "    <tr>\n",
       "      <th>Perak</th>\n",
       "      <td>8</td>\n",
       "      <td>8</td>\n",
       "      <td>8</td>\n",
       "    </tr>\n",
       "    <tr>\n",
       "      <th>Perlis</th>\n",
       "      <td>8</td>\n",
       "      <td>8</td>\n",
       "      <td>8</td>\n",
       "    </tr>\n",
       "    <tr>\n",
       "      <th>Pulau Pinang</th>\n",
       "      <td>8</td>\n",
       "      <td>8</td>\n",
       "      <td>8</td>\n",
       "    </tr>\n",
       "    <tr>\n",
       "      <th>Sabah</th>\n",
       "      <td>8</td>\n",
       "      <td>8</td>\n",
       "      <td>8</td>\n",
       "    </tr>\n",
       "    <tr>\n",
       "      <th>Sarawak</th>\n",
       "      <td>8</td>\n",
       "      <td>8</td>\n",
       "      <td>8</td>\n",
       "    </tr>\n",
       "    <tr>\n",
       "      <th>Selangor</th>\n",
       "      <td>8</td>\n",
       "      <td>8</td>\n",
       "      <td>8</td>\n",
       "    </tr>\n",
       "    <tr>\n",
       "      <th>Terengganu</th>\n",
       "      <td>8</td>\n",
       "      <td>8</td>\n",
       "      <td>8</td>\n",
       "    </tr>\n",
       "    <tr>\n",
       "      <th>W.P. Kuala Lumpur</th>\n",
       "      <td>8</td>\n",
       "      <td>8</td>\n",
       "      <td>8</td>\n",
       "    </tr>\n",
       "    <tr>\n",
       "      <th>W.P. Labuan</th>\n",
       "      <td>8</td>\n",
       "      <td>8</td>\n",
       "      <td>8</td>\n",
       "    </tr>\n",
       "    <tr>\n",
       "      <th>W.P. Putrajaya</th>\n",
       "      <td>8</td>\n",
       "      <td>8</td>\n",
       "      <td>8</td>\n",
       "    </tr>\n",
       "  </tbody>\n",
       "</table>\n",
       "</div>"
      ],
      "text/plain": [
       "                   Jantina  Tahun  Jumlah\n",
       "Negeri                                   \n",
       "Johor                    8      8       8\n",
       "Kedah                    8      8       8\n",
       "Kelantan                 8      8       8\n",
       "Melaka                   8      8       8\n",
       "Negeri Sembilan          8      8       8\n",
       "Pahang                   8      8       8\n",
       "Perak                    8      8       8\n",
       "Perlis                   8      8       8\n",
       "Pulau Pinang             8      8       8\n",
       "Sabah                    8      8       8\n",
       "Sarawak                  8      8       8\n",
       "Selangor                 8      8       8\n",
       "Terengganu               8      8       8\n",
       "W.P. Kuala Lumpur        8      8       8\n",
       "W.P. Labuan              8      8       8\n",
       "W.P. Putrajaya           8      8       8"
      ]
     },
     "execution_count": 16,
     "metadata": {},
     "output_type": "execute_result"
    }
   ],
   "source": [
    "# display information based of state (negeri)\n",
    "juv_negeri.groupby(by=[\"Negeri\"], dropna=False).count()"
   ]
  },
  {
   "cell_type": "code",
   "execution_count": 17,
   "id": "7f4023b3",
   "metadata": {},
   "outputs": [
    {
     "data": {
      "text/html": [
       "<div>\n",
       "<style scoped>\n",
       "    .dataframe tbody tr th:only-of-type {\n",
       "        vertical-align: middle;\n",
       "    }\n",
       "\n",
       "    .dataframe tbody tr th {\n",
       "        vertical-align: top;\n",
       "    }\n",
       "\n",
       "    .dataframe thead th {\n",
       "        text-align: right;\n",
       "    }\n",
       "</style>\n",
       "<table border=\"1\" class=\"dataframe\">\n",
       "  <thead>\n",
       "    <tr style=\"text-align: right;\">\n",
       "      <th></th>\n",
       "      <th>Negeri</th>\n",
       "      <th>Tahun</th>\n",
       "      <th>Jumlah</th>\n",
       "    </tr>\n",
       "    <tr>\n",
       "      <th>Jantina</th>\n",
       "      <th></th>\n",
       "      <th></th>\n",
       "      <th></th>\n",
       "    </tr>\n",
       "  </thead>\n",
       "  <tbody>\n",
       "    <tr>\n",
       "      <th>Lelaki</th>\n",
       "      <td>16</td>\n",
       "      <td>16</td>\n",
       "      <td>16</td>\n",
       "    </tr>\n",
       "    <tr>\n",
       "      <th>Lelaki / Male</th>\n",
       "      <td>32</td>\n",
       "      <td>32</td>\n",
       "      <td>32</td>\n",
       "    </tr>\n",
       "    <tr>\n",
       "      <th>Lelaki/Male</th>\n",
       "      <td>16</td>\n",
       "      <td>16</td>\n",
       "      <td>16</td>\n",
       "    </tr>\n",
       "    <tr>\n",
       "      <th>Perempuan</th>\n",
       "      <td>16</td>\n",
       "      <td>16</td>\n",
       "      <td>16</td>\n",
       "    </tr>\n",
       "    <tr>\n",
       "      <th>Perempuan / Female</th>\n",
       "      <td>32</td>\n",
       "      <td>32</td>\n",
       "      <td>32</td>\n",
       "    </tr>\n",
       "    <tr>\n",
       "      <th>Perempuan/Female</th>\n",
       "      <td>16</td>\n",
       "      <td>16</td>\n",
       "      <td>16</td>\n",
       "    </tr>\n",
       "  </tbody>\n",
       "</table>\n",
       "</div>"
      ],
      "text/plain": [
       "                    Negeri  Tahun  Jumlah\n",
       "Jantina                                  \n",
       "Lelaki                  16     16      16\n",
       "Lelaki / Male           32     32      32\n",
       "Lelaki/Male             16     16      16\n",
       "Perempuan               16     16      16\n",
       "Perempuan / Female      32     32      32\n",
       "Perempuan/Female        16     16      16"
      ]
     },
     "execution_count": 17,
     "metadata": {},
     "output_type": "execute_result"
    }
   ],
   "source": [
    "# display information based of state (negeri)\n",
    "juv_negeri.groupby(by=[\"Jantina\"], dropna=False).count()"
   ]
  },
  {
   "cell_type": "code",
   "execution_count": 18,
   "id": "b980515d",
   "metadata": {},
   "outputs": [
    {
     "data": {
      "text/plain": [
       "array(['Lelaki / Male', 'Perempuan / Female', 'Lelaki', 'Perempuan',\n",
       "       'Lelaki/Male', 'Perempuan/Female'], dtype=object)"
      ]
     },
     "execution_count": 18,
     "metadata": {},
     "output_type": "execute_result"
    }
   ],
   "source": [
    "juv_negeri['Jantina'].unique()"
   ]
  },
  {
   "cell_type": "code",
   "execution_count": 19,
   "id": "fff0777d",
   "metadata": {},
   "outputs": [],
   "source": [
    "# standardize the data\n",
    "juv_negeri['Jantina'].replace(to_replace=[\"Lelaki / Male\",\"Lelaki/Male\"], value=\"Lelaki\", inplace=True)\n",
    "juv_negeri['Jantina'].replace(to_replace=[\"Perempuan / Female\",\"Perempuan/Female\"], value=\"Perempuan\", inplace=True)"
   ]
  },
  {
   "cell_type": "code",
   "execution_count": 20,
   "id": "91968890",
   "metadata": {},
   "outputs": [
    {
     "data": {
      "text/html": [
       "<div>\n",
       "<style scoped>\n",
       "    .dataframe tbody tr th:only-of-type {\n",
       "        vertical-align: middle;\n",
       "    }\n",
       "\n",
       "    .dataframe tbody tr th {\n",
       "        vertical-align: top;\n",
       "    }\n",
       "\n",
       "    .dataframe thead th {\n",
       "        text-align: right;\n",
       "    }\n",
       "</style>\n",
       "<table border=\"1\" class=\"dataframe\">\n",
       "  <thead>\n",
       "    <tr style=\"text-align: right;\">\n",
       "      <th></th>\n",
       "      <th>Negeri</th>\n",
       "      <th>Tahun</th>\n",
       "      <th>Jumlah</th>\n",
       "    </tr>\n",
       "    <tr>\n",
       "      <th>Jantina</th>\n",
       "      <th></th>\n",
       "      <th></th>\n",
       "      <th></th>\n",
       "    </tr>\n",
       "  </thead>\n",
       "  <tbody>\n",
       "    <tr>\n",
       "      <th>Lelaki</th>\n",
       "      <td>64</td>\n",
       "      <td>64</td>\n",
       "      <td>64</td>\n",
       "    </tr>\n",
       "    <tr>\n",
       "      <th>Perempuan</th>\n",
       "      <td>64</td>\n",
       "      <td>64</td>\n",
       "      <td>64</td>\n",
       "    </tr>\n",
       "  </tbody>\n",
       "</table>\n",
       "</div>"
      ],
      "text/plain": [
       "           Negeri  Tahun  Jumlah\n",
       "Jantina                         \n",
       "Lelaki         64     64      64\n",
       "Perempuan      64     64      64"
      ]
     },
     "execution_count": 20,
     "metadata": {},
     "output_type": "execute_result"
    }
   ],
   "source": [
    "# display information based of state (negeri)\n",
    "juv_negeri.groupby(by=[\"Jantina\"], dropna=False).count()"
   ]
  },
  {
   "cell_type": "code",
   "execution_count": 21,
   "id": "8664f664",
   "metadata": {},
   "outputs": [
    {
     "data": {
      "text/html": [
       "<div>\n",
       "<style scoped>\n",
       "    .dataframe tbody tr th:only-of-type {\n",
       "        vertical-align: middle;\n",
       "    }\n",
       "\n",
       "    .dataframe tbody tr th {\n",
       "        vertical-align: top;\n",
       "    }\n",
       "\n",
       "    .dataframe thead th {\n",
       "        text-align: right;\n",
       "    }\n",
       "</style>\n",
       "<table border=\"1\" class=\"dataframe\">\n",
       "  <thead>\n",
       "    <tr style=\"text-align: right;\">\n",
       "      <th></th>\n",
       "      <th>Negeri</th>\n",
       "      <th>Jantina</th>\n",
       "      <th>Jumlah</th>\n",
       "    </tr>\n",
       "    <tr>\n",
       "      <th>Tahun</th>\n",
       "      <th></th>\n",
       "      <th></th>\n",
       "      <th></th>\n",
       "    </tr>\n",
       "  </thead>\n",
       "  <tbody>\n",
       "    <tr>\n",
       "      <th>2016</th>\n",
       "      <td>32</td>\n",
       "      <td>32</td>\n",
       "      <td>32</td>\n",
       "    </tr>\n",
       "    <tr>\n",
       "      <th>2017</th>\n",
       "      <td>32</td>\n",
       "      <td>32</td>\n",
       "      <td>32</td>\n",
       "    </tr>\n",
       "    <tr>\n",
       "      <th>2018</th>\n",
       "      <td>32</td>\n",
       "      <td>32</td>\n",
       "      <td>32</td>\n",
       "    </tr>\n",
       "    <tr>\n",
       "      <th>2019</th>\n",
       "      <td>32</td>\n",
       "      <td>32</td>\n",
       "      <td>32</td>\n",
       "    </tr>\n",
       "  </tbody>\n",
       "</table>\n",
       "</div>"
      ],
      "text/plain": [
       "       Negeri  Jantina  Jumlah\n",
       "Tahun                         \n",
       "2016       32       32      32\n",
       "2017       32       32      32\n",
       "2018       32       32      32\n",
       "2019       32       32      32"
      ]
     },
     "execution_count": 21,
     "metadata": {},
     "output_type": "execute_result"
    }
   ],
   "source": [
    "# display information based of state (negeri)\n",
    "juv_negeri.groupby(by=[\"Tahun\"], dropna=False).count()"
   ]
  },
  {
   "cell_type": "code",
   "execution_count": 22,
   "id": "b276724c",
   "metadata": {},
   "outputs": [],
   "source": [
    "juv_negeri['Tahun'] = juv_negeri['Tahun'].astype(str)"
   ]
  },
  {
   "cell_type": "code",
   "execution_count": 23,
   "id": "1a5fffec",
   "metadata": {},
   "outputs": [
    {
     "name": "stdout",
     "output_type": "stream",
     "text": [
      "<class 'pandas.core.frame.DataFrame'>\n",
      "Int64Index: 128 entries, 0 to 127\n",
      "Data columns (total 4 columns):\n",
      " #   Column   Non-Null Count  Dtype \n",
      "---  ------   --------------  ----- \n",
      " 0   Negeri   128 non-null    object\n",
      " 1   Jantina  128 non-null    object\n",
      " 2   Tahun    128 non-null    object\n",
      " 3   Jumlah   128 non-null    int64 \n",
      "dtypes: int64(1), object(3)\n",
      "memory usage: 5.0+ KB\n"
     ]
    }
   ],
   "source": [
    "juv_negeri.info()"
   ]
  },
  {
   "cell_type": "code",
   "execution_count": 24,
   "id": "b3adda61",
   "metadata": {},
   "outputs": [],
   "source": [
    "juv_negeri['Tahun'] = pd.to_datetime(juv_negeri['Tahun'])"
   ]
  },
  {
   "cell_type": "code",
   "execution_count": 25,
   "id": "fe970581",
   "metadata": {},
   "outputs": [
    {
     "name": "stdout",
     "output_type": "stream",
     "text": [
      "<class 'pandas.core.frame.DataFrame'>\n",
      "Int64Index: 128 entries, 0 to 127\n",
      "Data columns (total 4 columns):\n",
      " #   Column   Non-Null Count  Dtype         \n",
      "---  ------   --------------  -----         \n",
      " 0   Negeri   128 non-null    object        \n",
      " 1   Jantina  128 non-null    object        \n",
      " 2   Tahun    128 non-null    datetime64[ns]\n",
      " 3   Jumlah   128 non-null    int64         \n",
      "dtypes: datetime64[ns](1), int64(1), object(2)\n",
      "memory usage: 5.0+ KB\n"
     ]
    }
   ],
   "source": [
    "juv_negeri.info()"
   ]
  },
  {
   "cell_type": "code",
   "execution_count": 26,
   "id": "00960baa",
   "metadata": {},
   "outputs": [],
   "source": [
    "excel_file = pd.ExcelWriter(\"juvdata_negeri.xlsx\")"
   ]
  },
  {
   "cell_type": "code",
   "execution_count": 27,
   "id": "7358fa7c",
   "metadata": {},
   "outputs": [],
   "source": [
    "juv_negeri.to_excel(excel_file)"
   ]
  },
  {
   "cell_type": "code",
   "execution_count": 28,
   "id": "b97601bf",
   "metadata": {},
   "outputs": [],
   "source": [
    "excel_file.save()"
   ]
  },
  {
   "cell_type": "code",
   "execution_count": null,
   "id": "f0ed429c",
   "metadata": {},
   "outputs": [],
   "source": []
  }
 ],
 "metadata": {
  "kernelspec": {
   "display_name": "Python 3 (ipykernel)",
   "language": "python",
   "name": "python3"
  },
  "language_info": {
   "codemirror_mode": {
    "name": "ipython",
    "version": 3
   },
   "file_extension": ".py",
   "mimetype": "text/x-python",
   "name": "python",
   "nbconvert_exporter": "python",
   "pygments_lexer": "ipython3",
   "version": "3.9.12"
  }
 },
 "nbformat": 4,
 "nbformat_minor": 5
}
