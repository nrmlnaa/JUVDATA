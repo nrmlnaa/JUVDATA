{
 "cells": [
  {
   "cell_type": "code",
   "execution_count": 1,
   "id": "69dd2915",
   "metadata": {},
   "outputs": [],
   "source": [
    "# import required libraries\n",
    "# for data analysis and wrangling\n",
    "import pandas as pd\n",
    "import numpy as np\n",
    "import random as rnd"
   ]
  },
  {
   "cell_type": "code",
   "execution_count": 2,
   "id": "9064ca7a",
   "metadata": {},
   "outputs": [
    {
     "name": "stdout",
     "output_type": "stream",
     "text": [
      "<class 'pandas.core.frame.DataFrame'>\n",
      "RangeIndex: 33 entries, 0 to 32\n",
      "Data columns (total 3 columns):\n",
      " #   Column             Non-Null Count  Dtype \n",
      "---  ------             --------------  ----- \n",
      " 0   Kawalan penjagaan  33 non-null     object\n",
      " 1   Tahun              33 non-null     int64 \n",
      " 2   Jumlah             33 non-null     int64 \n",
      "dtypes: int64(2), object(1)\n",
      "memory usage: 920.0+ bytes\n"
     ]
    }
   ],
   "source": [
    "# locate the dataframe file and display the information\n",
    "juv_penjaga = pd.read_excel('Final kawalan penjagaan.xlsx')\n",
    "juv_penjaga.info()"
   ]
  },
  {
   "cell_type": "code",
   "execution_count": 3,
   "id": "4aa46a4a",
   "metadata": {},
   "outputs": [
    {
     "name": "stdout",
     "output_type": "stream",
     "text": [
      "['Kawalan penjagaan' 'Tahun' 'Jumlah']\n"
     ]
    }
   ],
   "source": [
    "# display all column names\n",
    "print(juv_penjaga.columns.values)"
   ]
  },
  {
   "cell_type": "code",
   "execution_count": 4,
   "id": "6f990b98",
   "metadata": {},
   "outputs": [],
   "source": [
    "# Rename the column name\n",
    "juv_penjaga.rename(columns = {'Kawalan penjagaan':'Living With',\n",
    "                               'Tahun':'Year', 'Jumlah':'Total'}, inplace = True)"
   ]
  },
  {
   "cell_type": "code",
   "execution_count": 5,
   "id": "1c416f40",
   "metadata": {},
   "outputs": [
    {
     "data": {
      "text/html": [
       "<div>\n",
       "<style scoped>\n",
       "    .dataframe tbody tr th:only-of-type {\n",
       "        vertical-align: middle;\n",
       "    }\n",
       "\n",
       "    .dataframe tbody tr th {\n",
       "        vertical-align: top;\n",
       "    }\n",
       "\n",
       "    .dataframe thead th {\n",
       "        text-align: right;\n",
       "    }\n",
       "</style>\n",
       "<table border=\"1\" class=\"dataframe\">\n",
       "  <thead>\n",
       "    <tr style=\"text-align: right;\">\n",
       "      <th></th>\n",
       "      <th>Living With</th>\n",
       "      <th>Year</th>\n",
       "      <th>Total</th>\n",
       "    </tr>\n",
       "  </thead>\n",
       "  <tbody>\n",
       "    <tr>\n",
       "      <th>0</th>\n",
       "      <td>Bersama ahli keluarga terdekat / With close fa...</td>\n",
       "      <td>2016</td>\n",
       "      <td>175</td>\n",
       "    </tr>\n",
       "    <tr>\n",
       "      <th>1</th>\n",
       "      <td>Bersama ahli keluarga terdekat / With close fa...</td>\n",
       "      <td>2017</td>\n",
       "      <td>174</td>\n",
       "    </tr>\n",
       "    <tr>\n",
       "      <th>2</th>\n",
       "      <td>Bersama ahli keluarga terdekat / With close fa...</td>\n",
       "      <td>2018</td>\n",
       "      <td>95</td>\n",
       "    </tr>\n",
       "    <tr>\n",
       "      <th>3</th>\n",
       "      <td>Bersama bapa / duda / with father / widower</td>\n",
       "      <td>2016</td>\n",
       "      <td>135</td>\n",
       "    </tr>\n",
       "    <tr>\n",
       "      <th>4</th>\n",
       "      <td>Bersama bapa / duda / with father / widower</td>\n",
       "      <td>2017</td>\n",
       "      <td>259</td>\n",
       "    </tr>\n",
       "  </tbody>\n",
       "</table>\n",
       "</div>"
      ],
      "text/plain": [
       "                                         Living With  Year  Total\n",
       "0  Bersama ahli keluarga terdekat / With close fa...  2016    175\n",
       "1  Bersama ahli keluarga terdekat / With close fa...  2017    174\n",
       "2  Bersama ahli keluarga terdekat / With close fa...  2018     95\n",
       "3        Bersama bapa / duda / with father / widower  2016    135\n",
       "4        Bersama bapa / duda / with father / widower  2017    259"
      ]
     },
     "execution_count": 5,
     "metadata": {},
     "output_type": "execute_result"
    }
   ],
   "source": [
    "juv_penjaga.head()"
   ]
  },
  {
   "cell_type": "code",
   "execution_count": 6,
   "id": "fff0333a",
   "metadata": {},
   "outputs": [
    {
     "data": {
      "text/html": [
       "<div>\n",
       "<style scoped>\n",
       "    .dataframe tbody tr th:only-of-type {\n",
       "        vertical-align: middle;\n",
       "    }\n",
       "\n",
       "    .dataframe tbody tr th {\n",
       "        vertical-align: top;\n",
       "    }\n",
       "\n",
       "    .dataframe thead th {\n",
       "        text-align: right;\n",
       "    }\n",
       "</style>\n",
       "<table border=\"1\" class=\"dataframe\">\n",
       "  <thead>\n",
       "    <tr style=\"text-align: right;\">\n",
       "      <th></th>\n",
       "      <th>Living With</th>\n",
       "      <th>Year</th>\n",
       "      <th>Total</th>\n",
       "    </tr>\n",
       "  </thead>\n",
       "  <tbody>\n",
       "    <tr>\n",
       "      <th>28</th>\n",
       "      <td>Tidak menentu / lari dari rumah / Unsure / Run...</td>\n",
       "      <td>2017</td>\n",
       "      <td>23</td>\n",
       "    </tr>\n",
       "    <tr>\n",
       "      <th>29</th>\n",
       "      <td>Tidak menentu / lari dari rumah / Unsure / Run...</td>\n",
       "      <td>2018</td>\n",
       "      <td>13</td>\n",
       "    </tr>\n",
       "    <tr>\n",
       "      <th>30</th>\n",
       "      <td>Tinggal sendiri / Staying alone</td>\n",
       "      <td>2016</td>\n",
       "      <td>26</td>\n",
       "    </tr>\n",
       "    <tr>\n",
       "      <th>31</th>\n",
       "      <td>Tinggal sendiri / Staying alone</td>\n",
       "      <td>2017</td>\n",
       "      <td>65</td>\n",
       "    </tr>\n",
       "    <tr>\n",
       "      <th>32</th>\n",
       "      <td>Tinggal sendiri / Staying alone</td>\n",
       "      <td>2018</td>\n",
       "      <td>20</td>\n",
       "    </tr>\n",
       "  </tbody>\n",
       "</table>\n",
       "</div>"
      ],
      "text/plain": [
       "                                          Living With  Year  Total\n",
       "28  Tidak menentu / lari dari rumah / Unsure / Run...  2017     23\n",
       "29  Tidak menentu / lari dari rumah / Unsure / Run...  2018     13\n",
       "30                    Tinggal sendiri / Staying alone  2016     26\n",
       "31                    Tinggal sendiri / Staying alone  2017     65\n",
       "32                    Tinggal sendiri / Staying alone  2018     20"
      ]
     },
     "execution_count": 6,
     "metadata": {},
     "output_type": "execute_result"
    }
   ],
   "source": [
    "juv_penjaga.tail()"
   ]
  },
  {
   "cell_type": "code",
   "execution_count": 7,
   "id": "efc3da2e",
   "metadata": {},
   "outputs": [],
   "source": [
    "juv_penjaga.dropna(inplace = True)"
   ]
  },
  {
   "cell_type": "code",
   "execution_count": 8,
   "id": "4094cc5b",
   "metadata": {},
   "outputs": [],
   "source": [
    "juv_penjaga.drop_duplicates(inplace=True)"
   ]
  },
  {
   "cell_type": "code",
   "execution_count": 9,
   "id": "b21bddd1",
   "metadata": {},
   "outputs": [
    {
     "data": {
      "text/plain": [
       "False"
      ]
     },
     "execution_count": 9,
     "metadata": {},
     "output_type": "execute_result"
    }
   ],
   "source": [
    "juv_penjaga.isnull().values.any()"
   ]
  },
  {
   "cell_type": "code",
   "execution_count": 10,
   "id": "996de3b2",
   "metadata": {},
   "outputs": [
    {
     "data": {
      "text/plain": [
       "Living With    False\n",
       "Year           False\n",
       "Total          False\n",
       "dtype: bool"
      ]
     },
     "execution_count": 10,
     "metadata": {},
     "output_type": "execute_result"
    }
   ],
   "source": [
    "juv_penjaga.isnull().any()"
   ]
  },
  {
   "cell_type": "code",
   "execution_count": 11,
   "id": "48a768ee",
   "metadata": {},
   "outputs": [
    {
     "data": {
      "text/html": [
       "<div>\n",
       "<style scoped>\n",
       "    .dataframe tbody tr th:only-of-type {\n",
       "        vertical-align: middle;\n",
       "    }\n",
       "\n",
       "    .dataframe tbody tr th {\n",
       "        vertical-align: top;\n",
       "    }\n",
       "\n",
       "    .dataframe thead th {\n",
       "        text-align: right;\n",
       "    }\n",
       "</style>\n",
       "<table border=\"1\" class=\"dataframe\">\n",
       "  <thead>\n",
       "    <tr style=\"text-align: right;\">\n",
       "      <th></th>\n",
       "      <th>Living With</th>\n",
       "    </tr>\n",
       "  </thead>\n",
       "  <tbody>\n",
       "    <tr>\n",
       "      <th>count</th>\n",
       "      <td>33</td>\n",
       "    </tr>\n",
       "    <tr>\n",
       "      <th>unique</th>\n",
       "      <td>11</td>\n",
       "    </tr>\n",
       "    <tr>\n",
       "      <th>top</th>\n",
       "      <td>Bersama ahli keluarga terdekat / With close fa...</td>\n",
       "    </tr>\n",
       "    <tr>\n",
       "      <th>freq</th>\n",
       "      <td>3</td>\n",
       "    </tr>\n",
       "  </tbody>\n",
       "</table>\n",
       "</div>"
      ],
      "text/plain": [
       "                                              Living With\n",
       "count                                                  33\n",
       "unique                                                 11\n",
       "top     Bersama ahli keluarga terdekat / With close fa...\n",
       "freq                                                    3"
      ]
     },
     "execution_count": 11,
     "metadata": {},
     "output_type": "execute_result"
    }
   ],
   "source": [
    "# display basic statistical information\n",
    "juv_penjaga.describe(include=['O'])"
   ]
  },
  {
   "cell_type": "code",
   "execution_count": 12,
   "id": "49e2ac5e",
   "metadata": {},
   "outputs": [
    {
     "data": {
      "text/html": [
       "<div>\n",
       "<style scoped>\n",
       "    .dataframe tbody tr th:only-of-type {\n",
       "        vertical-align: middle;\n",
       "    }\n",
       "\n",
       "    .dataframe tbody tr th {\n",
       "        vertical-align: top;\n",
       "    }\n",
       "\n",
       "    .dataframe thead th {\n",
       "        text-align: right;\n",
       "    }\n",
       "</style>\n",
       "<table border=\"1\" class=\"dataframe\">\n",
       "  <thead>\n",
       "    <tr style=\"text-align: right;\">\n",
       "      <th></th>\n",
       "      <th>Year</th>\n",
       "      <th>Total</th>\n",
       "    </tr>\n",
       "    <tr>\n",
       "      <th>Living With</th>\n",
       "      <th></th>\n",
       "      <th></th>\n",
       "    </tr>\n",
       "  </thead>\n",
       "  <tbody>\n",
       "    <tr>\n",
       "      <th>Bersama ahli keluarga terdekat / With close family members</th>\n",
       "      <td>3</td>\n",
       "      <td>3</td>\n",
       "    </tr>\n",
       "    <tr>\n",
       "      <th>Bersama bapa / duda / with father / widower</th>\n",
       "      <td>3</td>\n",
       "      <td>3</td>\n",
       "    </tr>\n",
       "    <tr>\n",
       "      <th>Bersama bapa dan ibu tiri / With father and step mother</th>\n",
       "      <td>3</td>\n",
       "      <td>3</td>\n",
       "    </tr>\n",
       "    <tr>\n",
       "      <th>Bersama datuk dan nenek / With grandparents</th>\n",
       "      <td>3</td>\n",
       "      <td>3</td>\n",
       "    </tr>\n",
       "    <tr>\n",
       "      <th>Bersama ibu / ibu tunggal / With mother / single mother</th>\n",
       "      <td>3</td>\n",
       "      <td>3</td>\n",
       "    </tr>\n",
       "    <tr>\n",
       "      <th>Bersama ibu dan bapa tiri / With mother step father</th>\n",
       "      <td>3</td>\n",
       "      <td>3</td>\n",
       "    </tr>\n",
       "    <tr>\n",
       "      <th>Bersama ibubapa / With parents</th>\n",
       "      <td>3</td>\n",
       "      <td>3</td>\n",
       "    </tr>\n",
       "    <tr>\n",
       "      <th>Bersama kawan / With friends</th>\n",
       "      <td>3</td>\n",
       "      <td>3</td>\n",
       "    </tr>\n",
       "    <tr>\n",
       "      <th>Lain-Lain / Others</th>\n",
       "      <td>3</td>\n",
       "      <td>3</td>\n",
       "    </tr>\n",
       "    <tr>\n",
       "      <th>Tidak menentu / lari dari rumah / Unsure / Run-away from home</th>\n",
       "      <td>3</td>\n",
       "      <td>3</td>\n",
       "    </tr>\n",
       "    <tr>\n",
       "      <th>Tinggal sendiri / Staying alone</th>\n",
       "      <td>3</td>\n",
       "      <td>3</td>\n",
       "    </tr>\n",
       "  </tbody>\n",
       "</table>\n",
       "</div>"
      ],
      "text/plain": [
       "                                                    Year  Total\n",
       "Living With                                                    \n",
       "Bersama ahli keluarga terdekat / With close fam...     3      3\n",
       "Bersama bapa / duda / with father / widower            3      3\n",
       "Bersama bapa dan ibu tiri / With father and ste...     3      3\n",
       "Bersama datuk dan nenek / With grandparents            3      3\n",
       "Bersama ibu / ibu tunggal / With mother / singl...     3      3\n",
       "Bersama ibu dan bapa tiri / With mother step fa...     3      3\n",
       "Bersama ibubapa / With parents                         3      3\n",
       "Bersama kawan / With friends                           3      3\n",
       "Lain-Lain / Others                                     3      3\n",
       "Tidak menentu / lari dari rumah / Unsure / Run-...     3      3\n",
       "Tinggal sendiri / Staying alone                        3      3"
      ]
     },
     "execution_count": 12,
     "metadata": {},
     "output_type": "execute_result"
    }
   ],
   "source": [
    "# display information based of state (negeri)\n",
    "juv_penjaga.groupby(by=[\"Living With\"], dropna=False).count()"
   ]
  },
  {
   "cell_type": "code",
   "execution_count": 13,
   "id": "43dff62c",
   "metadata": {},
   "outputs": [
    {
     "data": {
      "text/plain": [
       "array(['Bersama ahli keluarga terdekat / With close family members',\n",
       "       'Bersama bapa / duda / with father / widower',\n",
       "       'Bersama bapa dan ibu tiri / With father and step mother',\n",
       "       'Bersama datuk dan nenek / With grandparents',\n",
       "       'Bersama ibu / ibu tunggal / With mother / single mother',\n",
       "       'Bersama ibu dan bapa tiri / With mother step father',\n",
       "       'Bersama ibubapa / With parents', 'Bersama kawan / With friends',\n",
       "       'Lain-Lain / Others',\n",
       "       'Tidak menentu / lari dari rumah / Unsure / Run-away from home',\n",
       "       'Tinggal sendiri / Staying alone'], dtype=object)"
      ]
     },
     "execution_count": 13,
     "metadata": {},
     "output_type": "execute_result"
    }
   ],
   "source": [
    "juv_penjaga['Living With'].unique()"
   ]
  },
  {
   "cell_type": "code",
   "execution_count": 14,
   "id": "8bde2d0e",
   "metadata": {},
   "outputs": [],
   "source": [
    "# standardize the data\n",
    "juv_penjaga['Living With'].replace(to_replace=[\"Bersama ahli keluarga terdekat / With close family members\"],\n",
    "                                         value=\"Close family members\", inplace=True)\n",
    "\n",
    "juv_penjaga['Living With'].replace(to_replace=[\"Bersama bapa / duda / with father / widower\"],\n",
    "                                         value=\"Father / single father\", inplace=True)\n",
    "\n",
    "juv_penjaga['Living With'].replace(to_replace=[\"Bersama bapa dan ibu tiri / With father and step mother\"],\n",
    "                                         value=\"Father & step mother\", inplace=True)\n",
    "\n",
    "juv_penjaga['Living With'].replace(to_replace=[\"Bersama datuk dan nenek / With grandparents\"],\n",
    "                                         value=\"Grandparents\", inplace=True)\n",
    "\n",
    "juv_penjaga['Living With'].replace(to_replace=[\"Bersama ibu / ibu tunggal / With mother / single mother\"],\n",
    "                                         value=\"Mother / single mother\", inplace=True)\n",
    "\n",
    "juv_penjaga['Living With'].replace(to_replace=[\"Bersama ibu dan bapa tiri / With mother step father\"],\n",
    "                                         value=\"Mother & step father\", inplace=True)\n",
    "\n",
    "juv_penjaga['Living With'].replace(to_replace=[\"Bersama ibubapa / With parents\"], value=\"Parents\",\n",
    "                                         inplace=True)\n",
    "\n",
    "juv_penjaga['Living With'].replace(to_replace=[\"Bersama kawan / With friends\"], value=\"Friends\",\n",
    "                                         inplace=True)\n",
    "\n",
    "juv_penjaga['Living With'].replace(to_replace=[\"Lain-Lain / Others\"], value=\"Others\", inplace=True)\n",
    "\n",
    "juv_penjaga['Living With'].replace(to_replace=[\"Tidak menentu / lari dari rumah / Unsure / Run-away from home\"]\n",
    "                                         ,value=\"Unsure / Run-away from home\", inplace=True)\n",
    "\n",
    "juv_penjaga['Living With'].replace(to_replace=[\"Tinggal sendiri / Staying alone\"], value=\"Staying alone\",\n",
    "                                         inplace=True)"
   ]
  },
  {
   "cell_type": "code",
   "execution_count": 15,
   "id": "e1035cb8",
   "metadata": {},
   "outputs": [
    {
     "data": {
      "text/html": [
       "<div>\n",
       "<style scoped>\n",
       "    .dataframe tbody tr th:only-of-type {\n",
       "        vertical-align: middle;\n",
       "    }\n",
       "\n",
       "    .dataframe tbody tr th {\n",
       "        vertical-align: top;\n",
       "    }\n",
       "\n",
       "    .dataframe thead th {\n",
       "        text-align: right;\n",
       "    }\n",
       "</style>\n",
       "<table border=\"1\" class=\"dataframe\">\n",
       "  <thead>\n",
       "    <tr style=\"text-align: right;\">\n",
       "      <th></th>\n",
       "      <th>Year</th>\n",
       "      <th>Total</th>\n",
       "    </tr>\n",
       "    <tr>\n",
       "      <th>Living With</th>\n",
       "      <th></th>\n",
       "      <th></th>\n",
       "    </tr>\n",
       "  </thead>\n",
       "  <tbody>\n",
       "    <tr>\n",
       "      <th>Close family members</th>\n",
       "      <td>3</td>\n",
       "      <td>3</td>\n",
       "    </tr>\n",
       "    <tr>\n",
       "      <th>Father &amp; step mother</th>\n",
       "      <td>3</td>\n",
       "      <td>3</td>\n",
       "    </tr>\n",
       "    <tr>\n",
       "      <th>Father / single father</th>\n",
       "      <td>3</td>\n",
       "      <td>3</td>\n",
       "    </tr>\n",
       "    <tr>\n",
       "      <th>Friends</th>\n",
       "      <td>3</td>\n",
       "      <td>3</td>\n",
       "    </tr>\n",
       "    <tr>\n",
       "      <th>Grandparents</th>\n",
       "      <td>3</td>\n",
       "      <td>3</td>\n",
       "    </tr>\n",
       "    <tr>\n",
       "      <th>Mother &amp; step father</th>\n",
       "      <td>3</td>\n",
       "      <td>3</td>\n",
       "    </tr>\n",
       "    <tr>\n",
       "      <th>Mother / single mother</th>\n",
       "      <td>3</td>\n",
       "      <td>3</td>\n",
       "    </tr>\n",
       "    <tr>\n",
       "      <th>Others</th>\n",
       "      <td>3</td>\n",
       "      <td>3</td>\n",
       "    </tr>\n",
       "    <tr>\n",
       "      <th>Parents</th>\n",
       "      <td>3</td>\n",
       "      <td>3</td>\n",
       "    </tr>\n",
       "    <tr>\n",
       "      <th>Staying alone</th>\n",
       "      <td>3</td>\n",
       "      <td>3</td>\n",
       "    </tr>\n",
       "    <tr>\n",
       "      <th>Unsure / Run-away from home</th>\n",
       "      <td>3</td>\n",
       "      <td>3</td>\n",
       "    </tr>\n",
       "  </tbody>\n",
       "</table>\n",
       "</div>"
      ],
      "text/plain": [
       "                             Year  Total\n",
       "Living With                             \n",
       "Close family members            3      3\n",
       "Father & step mother            3      3\n",
       "Father / single father          3      3\n",
       "Friends                         3      3\n",
       "Grandparents                    3      3\n",
       "Mother & step father            3      3\n",
       "Mother / single mother          3      3\n",
       "Others                          3      3\n",
       "Parents                         3      3\n",
       "Staying alone                   3      3\n",
       "Unsure / Run-away from home     3      3"
      ]
     },
     "execution_count": 15,
     "metadata": {},
     "output_type": "execute_result"
    }
   ],
   "source": [
    "# display information based of state (negeri)\n",
    "juv_penjaga.groupby(by=[\"Living With\"], dropna=False).count()"
   ]
  },
  {
   "cell_type": "code",
   "execution_count": 16,
   "id": "a8254485",
   "metadata": {},
   "outputs": [
    {
     "data": {
      "text/html": [
       "<div>\n",
       "<style scoped>\n",
       "    .dataframe tbody tr th:only-of-type {\n",
       "        vertical-align: middle;\n",
       "    }\n",
       "\n",
       "    .dataframe tbody tr th {\n",
       "        vertical-align: top;\n",
       "    }\n",
       "\n",
       "    .dataframe thead th {\n",
       "        text-align: right;\n",
       "    }\n",
       "</style>\n",
       "<table border=\"1\" class=\"dataframe\">\n",
       "  <thead>\n",
       "    <tr style=\"text-align: right;\">\n",
       "      <th></th>\n",
       "      <th>Living With</th>\n",
       "      <th>Total</th>\n",
       "    </tr>\n",
       "    <tr>\n",
       "      <th>Year</th>\n",
       "      <th></th>\n",
       "      <th></th>\n",
       "    </tr>\n",
       "  </thead>\n",
       "  <tbody>\n",
       "    <tr>\n",
       "      <th>2016</th>\n",
       "      <td>11</td>\n",
       "      <td>11</td>\n",
       "    </tr>\n",
       "    <tr>\n",
       "      <th>2017</th>\n",
       "      <td>11</td>\n",
       "      <td>11</td>\n",
       "    </tr>\n",
       "    <tr>\n",
       "      <th>2018</th>\n",
       "      <td>11</td>\n",
       "      <td>11</td>\n",
       "    </tr>\n",
       "  </tbody>\n",
       "</table>\n",
       "</div>"
      ],
      "text/plain": [
       "      Living With  Total\n",
       "Year                    \n",
       "2016           11     11\n",
       "2017           11     11\n",
       "2018           11     11"
      ]
     },
     "execution_count": 16,
     "metadata": {},
     "output_type": "execute_result"
    }
   ],
   "source": [
    "# display information based of state (negeri)\n",
    "juv_penjaga.groupby(by=[\"Year\"], dropna=False).count()"
   ]
  },
  {
   "cell_type": "code",
   "execution_count": 17,
   "id": "de0cf888",
   "metadata": {},
   "outputs": [],
   "source": [
    "juv_penjaga['Year'] = juv_penjaga['Year'].astype(str)"
   ]
  },
  {
   "cell_type": "code",
   "execution_count": 18,
   "id": "143d47df",
   "metadata": {},
   "outputs": [
    {
     "name": "stdout",
     "output_type": "stream",
     "text": [
      "<class 'pandas.core.frame.DataFrame'>\n",
      "Int64Index: 33 entries, 0 to 32\n",
      "Data columns (total 3 columns):\n",
      " #   Column       Non-Null Count  Dtype \n",
      "---  ------       --------------  ----- \n",
      " 0   Living With  33 non-null     object\n",
      " 1   Year         33 non-null     object\n",
      " 2   Total        33 non-null     int64 \n",
      "dtypes: int64(1), object(2)\n",
      "memory usage: 1.0+ KB\n"
     ]
    }
   ],
   "source": [
    "juv_penjaga.info()"
   ]
  },
  {
   "cell_type": "code",
   "execution_count": 19,
   "id": "916ac6b0",
   "metadata": {},
   "outputs": [],
   "source": [
    "juv_penjaga['Year'] = pd.to_datetime(juv_penjaga['Year'])"
   ]
  },
  {
   "cell_type": "code",
   "execution_count": 20,
   "id": "301b5b86",
   "metadata": {},
   "outputs": [
    {
     "name": "stdout",
     "output_type": "stream",
     "text": [
      "<class 'pandas.core.frame.DataFrame'>\n",
      "Int64Index: 33 entries, 0 to 32\n",
      "Data columns (total 3 columns):\n",
      " #   Column       Non-Null Count  Dtype         \n",
      "---  ------       --------------  -----         \n",
      " 0   Living With  33 non-null     object        \n",
      " 1   Year         33 non-null     datetime64[ns]\n",
      " 2   Total        33 non-null     int64         \n",
      "dtypes: datetime64[ns](1), int64(1), object(1)\n",
      "memory usage: 1.0+ KB\n"
     ]
    }
   ],
   "source": [
    "juv_penjaga.info()"
   ]
  },
  {
   "cell_type": "code",
   "execution_count": 21,
   "id": "82c69751",
   "metadata": {},
   "outputs": [],
   "source": [
    "excel_file = pd.ExcelWriter(\"juvdata_inthecareof.xlsx\")"
   ]
  },
  {
   "cell_type": "code",
   "execution_count": 22,
   "id": "fc755dd8",
   "metadata": {},
   "outputs": [],
   "source": [
    "juv_penjaga.to_excel(excel_file, index = False)"
   ]
  },
  {
   "cell_type": "code",
   "execution_count": 23,
   "id": "35462338",
   "metadata": {},
   "outputs": [],
   "source": [
    "excel_file.save()"
   ]
  },
  {
   "cell_type": "code",
   "execution_count": null,
   "id": "83049879",
   "metadata": {},
   "outputs": [],
   "source": []
  }
 ],
 "metadata": {
  "kernelspec": {
   "display_name": "Python 3 (ipykernel)",
   "language": "python",
   "name": "python3"
  },
  "language_info": {
   "codemirror_mode": {
    "name": "ipython",
    "version": 3
   },
   "file_extension": ".py",
   "mimetype": "text/x-python",
   "name": "python",
   "nbconvert_exporter": "python",
   "pygments_lexer": "ipython3",
   "version": "3.9.12"
  }
 },
 "nbformat": 4,
 "nbformat_minor": 5
}
